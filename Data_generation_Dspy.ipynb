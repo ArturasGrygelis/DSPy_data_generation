{
 "cells": [
  {
   "cell_type": "markdown",
   "id": "ba800fb1-44da-42f1-a9cf-314fa32e54a3",
   "metadata": {},
   "source": [
    "# Introduction:\n",
    "In this experiment, DSPY was utilized to automatically generate question and answer (QA) pairs from a given context, with a focus on processing Lithuanian language queries. The goal of the experiment was to explore the efficiency and accuracy of the DSPY framework in generating relevant QA pairs based on the provided context, with a challenge to do it with small nation language , which was not main training language for a model or is widely used by AI community. The experiment used the Gemma 2 27B Q4 model, and it aimed to assess how sensitive the generation process is in the choice of model."
   ]
  },
  {
   "cell_type": "markdown",
   "id": "91f6d84f-718f-49f7-8666-3e19dbddd333",
   "metadata": {},
   "source": [
    "### If DSPy doens't work for you on Windows, try to install with this code from a cell bellow"
   ]
  },
  {
   "cell_type": "code",
   "execution_count": null,
   "id": "c11822c8-8170-4d1d-acf0-00b29384a13e",
   "metadata": {},
   "outputs": [],
   "source": [
    "!pip install git+https://github.com/stanfordnlp/dspy.git"
   ]
  },
  {
   "cell_type": "code",
   "execution_count": 10,
   "id": "94a113b3-a06f-436d-a794-fe13a05e55ea",
   "metadata": {},
   "outputs": [],
   "source": [
    "import os\n",
    "from typing_extensions import TypedDict, List\n",
    "from langchain_huggingface import HuggingFaceEmbeddings\n",
    "import pandas as pd\n",
    "from IPython.display import Image, display\n",
    "from dspy import ChainOfThought\n",
    "from pathlib import Path\n",
    "from pydantic import BaseModel\n",
    "import dspy\n",
    "import chromadb\n",
    "from dspy.retrieve.chromadb_rm import ChromadbRM\n",
    "import pandas as pd"
   ]
  },
  {
   "cell_type": "markdown",
   "id": "219c37b2-b7a8-4cdf-8443-3a64adb279d5",
   "metadata": {},
   "source": [
    "### Vectorstore initialization for infromation retrieval"
   ]
  },
  {
   "cell_type": "code",
   "execution_count": 12,
   "id": "0ad7e953-13a6-49d9-80c1-28c86722d250",
   "metadata": {},
   "outputs": [],
   "source": [
    "model_name = \"intfloat/multilingual-e5-large-instruct\"\n",
    "model_kwargs = {'device': 'cpu',\n",
    "                  \"trust_remote_code\" : 'False'}\n",
    "encode_kwargs = {'normalize_embeddings': True}\n",
    "embeddings = HuggingFaceEmbeddings(\n",
    "        model_name=model_name,\n",
    "        model_kwargs=model_kwargs,\n",
    "        encode_kwargs=encode_kwargs\n",
    "    )"
   ]
  },
  {
   "cell_type": "code",
   "execution_count": 13,
   "id": "d87b3457-ce19-480a-8e5b-c413a5b6a505",
   "metadata": {},
   "outputs": [],
   "source": [
    "from chromadb.utils.embedding_functions import create_langchain_embedding\n",
    "from langchain_huggingface import HuggingFaceEmbeddings\n",
    "\n",
    "langchain_embeddings = embeddings\n",
    "\n",
    "ef = create_langchain_embedding(langchain_embeddings)"
   ]
  },
  {
   "cell_type": "code",
   "execution_count": null,
   "id": "aa934827-f65a-4186-8fe0-1ab6abc745e7",
   "metadata": {},
   "outputs": [],
   "source": []
  },
  {
   "cell_type": "code",
   "execution_count": 14,
   "id": "443cce28-f734-4f25-96fc-680a0b8de0b5",
   "metadata": {},
   "outputs": [],
   "source": [
    "from dspy.retrieve.chromadb_rm import ChromadbRM\n",
    "\n",
    "retriever_model = ChromadbRM(\n",
    "    'Dspy_data_generation_final',\n",
    "    './docs_final/docs/chroma',\n",
    "    embedding_function=ef,\n",
    "    k=5\n",
    ")"
   ]
  },
  {
   "cell_type": "code",
   "execution_count": 36,
   "id": "210159e0-4551-44f3-8e23-452341ed545c",
   "metadata": {
    "scrolled": true
   },
   "outputs": [
    {
     "data": {
      "text/plain": [
       "[{'id': 'bc961b8e-b7f8-4591-a833-289e55d1cfcb',\n",
       "  'score': 0.24978500604629517,\n",
       "  'long_text': 'Lituanica',\n",
       "  'metadatas': {'Documento_pavadinimas': 'final_manoDataset.txt'}},\n",
       " {'id': 'bb8bc24e-234a-40d0-8cf6-b60a2183aed9',\n",
       "  'score': 0.35074687004089355,\n",
       "  'long_text': 'SANDORIŲ SAMPRATA IR RŪŠYS\\nSandoriais laikomi asmenų veiksmai, kuriais siekiama sukurti, pakeisti arba panaikinti civilines teises\\nir pareigas (CK 1.63 str. 1 d.).\\nSandoriai gali būti vienašaliai, dvišaliai ir daugiašaliai. Vienašaliu laikomas sandoris, kuriam sudaryti\\nbūtina ir pakanka vienos šalies valios (CK 1.63 str. 2–3 d.).\\nIš vienašalio sandorio atsiranda pareigos jį sudariusiam asmeniui. Kitiems asmenims iš vienašalio sandorio pareigos atsiranda tik įstatymų nustatytais atvejais arba kai tie asmenys sutinka (CK 1.63 str. 4 d.).\\nVienašaliams sandoriams prievoles ir sutartis reglamentuojančios teisės normos taikomos tiek, kiek tai\\nneprieštarauja įstatymams ir vienašalio sandorio esmei (CK 1.63 str. 5 d.).\\nDvišaliu laikomas sandoris, kuriam sudaryti būtina dviejų šalių suderinta valia (CK 1.63 str. 6 d.).',\n",
       "  'metadatas': {'Documento_pavadinimas': 'final_manoDataset.txt'}},\n",
       " {'id': '6fb1b92a-79e8-4eff-b1c2-bf65b48bc79e',\n",
       "  'score': 0.3661039471626282,\n",
       "  'long_text': 'NEGALIOJANTYS SANDORIAI :Niekiniai sandoriai \\n\\nSandoris laikomas niekiniu, jeigu jis, vadovaujantis įstatymais, negalioja, nepaisant\\nto, yra ar ne teismo sprendimas pripažinti jį\\nnegaliojančiu. Šalys negali niekinio sandorio patvirtinti.\\nIeškinį dėl nuginčijamo sandorio pripažinimo negaliojančiu gali pareikšti tik įstatymų nurodyti asmenys (CK 1.78 str.)\\n\\nImperatyvioms įstatymo normoms prieštaraujantis sandoris yra niekinis ir negalioja.\\nKai sandoris negalioja, viena jo šalis\\nprivalo grąžinti kitai sandorio šaliai visa, ką\\nyra gavusi pagal sandorį (restitucija), o kai\\nnegalima grąžinti to, ką yra gavusi, natūra, — atlyginti to vertę pinigais, jeigu įstatymai nenumato kitokių sandorio negaliojimo\\npasekmių (CK 1.80 str.).\\n\\nViešajai tvarkai ar gerai moralei prieštaraujantis sandoris yra niekinis ir negalioja.\\nVienašalė ar dvišalė restitucija galima,\\njeigu jos taikymas neprieštarauja imperatyvioms įstatymų normoms ar gerai moralei,\\nt.y. kai nebuvo pasiektas viešajai tvarkai\\nar geros moralės normoms prieštaraujančio sandorio tikslas, o viešosios teisės normos nenustato tokio sandorio šalims turtinių\\nsankcijų (CK 1.81 str.).',\n",
       "  'metadatas': {'Documento_pavadinimas': 'final_manoDataset.txt'}},\n",
       " {'id': '81a4242f-a51a-48f3-b4d0-c97360a9a6e6',\n",
       "  'score': 0.3702790141105652,\n",
       "  'long_text': 'Rašytinės formos sandorių pasirašymas.\\nRašytinės formos sandorius turi pasirašyti juos sudarę asmenys. jeigu fizinis asmuo dėl fizinio trūkumo, ligos ar kitokių priežasčių negali pats pasirašyti, jo pavedimu sandorį gali už jį pasirašyti kitas asmuo.\\nuž kitą asmenį pasirašiusio asmens parašą turi patvirtinti notaras arba įmonės, įstaigos ar organizacijos,\\nkurioje jis dirba ar mokosi vadovas ar jo pavaduotojas, arba stacionarinės gydymo įstaigos, kurioje jis\\ngydosi, vyriausiasis gydytojas ar jo pavaduotojas, arba karinio dalinio vadas ar jo pavaduotojas, kai sandorį sudaro karys, arba tolimajame plaukiojime esančio laivo kapitonas, kartu nurodydami priežastį, dėl\\nkurios sudarantis sandorį asmuo pats negalėjo pasirašyti (CK 1.76 str. 1 d.).\\nJeigu sandoris buvo sudarytas panaudojant telekomunikacijų galinius įrenginius, tai visais atvejais privalo būti pakankamai duomenų sandorio šalims nustatyti. Jeigu tokių duomenų nėra, šalys kilus ginčui,\\nnegali remtis liudytojų parodymais sandorio sudarymo faktui įrodyti (CK 1.76 str. 2 d.).\\nKitokios, negu įstatymo leidžiama, formos sandorių sudarymas. Sandoriai, kuriuos statymas leidžia\\nsudaryti žodžiu, taip pat gali būti sudaromi paprastos rašytinės ar notarinės formos (CK 1.77 str. 2 d.).\\nNotarinės formos gali būti sandoriai, kuriems sudaryti įstatymas nustato rašytinę formą (CK 1.77str. 2d.).',\n",
       "  'metadatas': {'Documento_pavadinimas': 'final_manoDataset.txt'}},\n",
       " {'id': 'e2a70d62-35ae-407d-9ac2-ef61c2f63647',\n",
       "  'score': 0.3819957971572876,\n",
       "  'long_text': 'NEGALIOJANTYS SANDORIAI: Nuginčijami sandoriai\\n\\nSandoris, kurį pripažinti negaliojančiu būtinas teismo sprendimas, yra nuginčijamas sandoris.\\nIeškinį dėl nuginčijamo sandorio pripažinimo negaliojančiu gali pareikšti tik įstatymų nurodyti asmenys\\n(CK 1.78 straipsnis).\\nŠalis, turinti teisę sandorį nuginčyti, gali jį patvirtinti per kitos sandorio šalies arba įstatymų nustatytą terminą. Patvirtinusi sandorį šalis netenka teisės jį ginčyti\\n(CK 1.79 str.).\\n\\nSandoriai, sudaryti privataus juridinio asmens valdymo organų, pažeidžiant privataus juridinio asmens\\nsteigimo dokumentuose nustatytą jų kompetenciją ar\\nprieštaraujantys juridinio asmens tikslams, gali būti\\npripažinti negaliojančiais tik tais atvejais, kai kita sandorio šalis veikė nesąžiningai, t.y. žinojo ar turėjo žinoti, kad tas sandoris prieštarauja privataus juridinio\\nasmens veiklos tikslams.\\nViešųjų juridinių asmenų sudaryti sandoriai, prieštaraujantys jų veiklos tikslams, gali būti pripažįstami\\nnegaliojančiais (CK 1.82 str.)\\n\\nTik dėl akių (neketinant sukurti teisinių pasekmių)\\nsudarytas sandoris negalioja (CK 1.89 str.).\\nKai sandoris negalioja, viena jo šalis privalo grąžinti\\nkitai sandorio šaliai visa, ką yra gavusi pagal sandorį\\n(restitucija), o kai negalima grąžinti to, ką yra gavusi, natūra, — atlyginti to vertę pinigais, jeigu įstatymai\\nnenumato kitokių sandorio negaliojimo pasekmių (CK\\n1.80 str.)\\n\\nJeigu sandoris sudarytas kitam sandoriui pridengti,\\ntaikomos sandoriui, kurį šalys iš tikrųjų turėjo galvoje,\\ntaikytinos taisyklės.\\nJeigu apsimestiniu sandoriu yra pažeistos trečiųjų\\nasmenų teisės ar teisėti interesai, šie asmenys, gindami\\nsavo teises, gali panaudoti apsimetimo faktą prieš apsimestinio sandorio šalis.\\nApsimestinio sandorio šalys apsimestinio sandorio\\nsudarymo fakto negali panaudoti prieš trečiuosius asmenis, kurie sąžiningai įgijo teises apsimestinio sandorio pagrindu CK 1.87 str.).\\n\\nNepilnamečio nuo keturiolikos iki aštuoniolikos\\nmetų be tėvų ar rūpintojų sutikimo sudarytą sandorį,\\nišskyrus sandorius, kuriuos toks nepilnametis pagal\\nšį kodeksą ar kitus įstatymus turi teisę sudaryti savarankiškai, gali būti teismo tvarka pripažintas negaliojančiu pagal to nepilnamečio tėvų ar rūpintojų ieškinį\\n(CK 1.88 str.).\\n\\nFizinio asmens, kuris nors ir būdamas veiksnus,\\nsandorio sudarymo metu buvo tokios būsenos, kad negalėjo suprasti savo veiksmų reikšmės ar jų valdyti,\\nsudarytas sandoris gali būti teismo tvarka pripažintas\\nnegaliojančiu pagal šio fizinio asmens ieškinį (CK 1.89\\nstr.).\\n\\nIš esmės suklydus sudarytas sandoris gali būti teismo tvarka pripažintas negaliojančiu pagal klydusios\\nšalies ieškinį.\\nSuklydimu laikoma klaidinga prielaida apie egzistavusius esminius sandorio faktus sandorio sudarymo\\nmetu (CK 1.90 str.).\\n\\nDėl apgaulės, smurto, ekonominio spaudimo ar realaus grasinimo, arba dėl vienos šalies atstovo piktavališko susitarimo su antrąja šalimi sudarytas sandoris,\\ntaip pat sandoris, kurį asmuo dėl susidėjusių aplinkybių\\nbuvo priverstas sudaryti labai nenaudingomis sąlygomis, gali būti teismo tvarka pripažintas negaliojančiu\\n(CK 1.91 str.).\\n\\nJeigu asmens atstovo galiojimus apribojo įstatymai\\nar sutartis ir atstovas šiuos apribojimus viršija, toks\\nsandoris gali būti pripažintas negaliojančiu pagal atstovaujamojo ieškinį, jeigu atstovaujamasis sandorio nepatvirtino (CK 1.92 – 2.133 str).',\n",
       "  'metadatas': {'Documento_pavadinimas': 'final_manoDataset.txt'}}]"
      ]
     },
     "execution_count": 36,
     "metadata": {},
     "output_type": "execute_result"
    }
   ],
   "source": [
    "results = retriever_model(\"Sandoris\", k=5)\n",
    "results"
   ]
  },
  {
   "cell_type": "markdown",
   "id": "f356eca8-8b73-4ff7-98a2-0d8b1b7625f4",
   "metadata": {},
   "source": [
    "### Initialization of a language model, which is local and simple test of it."
   ]
  },
  {
   "cell_type": "code",
   "execution_count": 16,
   "id": "e311c7b5-b006-48ee-8643-8a21f5d4599a",
   "metadata": {},
   "outputs": [],
   "source": [
    "import dspy\n",
    "lm = dspy.LM('ollama_chat/Gemma_2_27b_Q4_8k_ctx:latest', api_base='http://localhost:11434', api_key='',temperature = 0.0)\n",
    "dspy.configure(lm=lm, rm =retriever_model)"
   ]
  },
  {
   "cell_type": "code",
   "execution_count": 17,
   "id": "505f82fa-c787-44a6-bc60-8e49f4bc08b4",
   "metadata": {},
   "outputs": [
    {
     "data": {
      "text/plain": [
       "['Tai testas.\\n\\n**Kanorai:**\\n\\n* **Labas:** Sveiki\\n* **Ačiū:** Ačiū\\n* **Prašau:** Prašom\\n* **Kiek kainuoja?** Kiek tai kainuoja?\\n* **Kur yra tualetas?** Kur yra WC?\\n\\n\\nAr norite, kad patikrintumem jūsų žinias apie lietuvių kalbą? \\n']"
      ]
     },
     "execution_count": 17,
     "metadata": {},
     "output_type": "execute_result"
    }
   ],
   "source": [
    "lm(messages=[{\"role\": \"user\", \"content\": \"pasakyk kad tai testas ir pridek dar kanors lietuviskai!\"}])  # => ['This is a test!']"
   ]
  },
  {
   "cell_type": "markdown",
   "id": "56888051-946f-410e-91b1-a88db03282be",
   "metadata": {},
   "source": [
    "### Queries , with whom will be information retrieved from a Chroma vectorstore"
   ]
  },
  {
   "cell_type": "code",
   "execution_count": 21,
   "id": "fc9819c3-7ec5-403f-85c1-58e2100bd7e2",
   "metadata": {},
   "outputs": [],
   "source": [
    "questions = [ \n",
    "    \"Viešieji juridiniai asmenys\", \"Privatieji juridiniai asmenys\", \"Teisė į juridinio asmens pavadinimą\",\n",
    "    \"Juridinių asmenų steigimas\", \"Juridinio asmens įstatai\", \"Juridinio asmens registravimas\", \n",
    "    \"bendrovės įstatinis kapitalas\", \"Juridinių asmenų registro duomenys neatlygintinai teikiami\", \n",
    "    \"Juridinių asmenų teisnumas\", \"Licencijavimo taisyklės\", \"Atsisakymas išduoti licenciją\", \n",
    "    \"Juridinio asmens organai\", \"Juridinių asmenų rūšys\", \"Akcinė bendrovė\", \"Ūkinė bendrija\", \n",
    "    \"Individuali įmonė\", \"Individualios įmonės steigimas\", \"Individualios įmonės samprata\", \n",
    "    \"Individualios įmonės savininkas turi teisę\", \"Individualios įmonės turtas\", \"Ūkinės bendrijos\", \n",
    "    \"Akcinė bendrovė\", \"uždaroji akcinė bendrovė\", \"Bendrovė\", \"Akcininkai\", \"Bendrovės įstatai\", \n",
    "    \"Turtinės ir neturtinės akcininkų teisės\", \"Bendrovės organai\", \"Visuotinis akcininkų susirinkimas\", \n",
    "    \"Stebėtojų tarybos kompetencija\", \"Stebėtojų tarybos sprendimų priėmimas\", \"Stebėtojų taryba\", \n",
    "    \"Valdybos kompetencija\", \"Bendrovės vadovas\", \"Akcijos\", \"privilegijuotosios akcijos\", \n",
    "    \"Paprastosios akcijos\", \"Obligacijos\", \"Dividendai\", \"Bendrovės reorganizavimas\", \n",
    "    \"Bendrovės pertvarkymas\", \"Bendrovės likvidavimas\", \"savivaldybės įmonės tikslas\", \n",
    "    \"Valstybės įmonės savininkė\", \"Žemės ūkio bendrovė\", \"Žemės ūkio bendrovės\", \"Bendrovės steigėjai\", \n",
    "    \"Bendrovės steigimo dokumentai\", \"Mažoji bendrija\", \"Ribota civilinė atsakomybė\", \n",
    "    \"Mažosios bendrijos steigimas\", \"Mažosios bendrijos registravimas\", \"Mažosios bendrijos narių teisės ir pareigos\", \n",
    "    \"Įnašai į mažąją bendriją\", \"Mažosios bendrijos nario savanoriškas pasitraukimas\", \n",
    "    \"Mažosios bendrijos organai\", \"Mažosios bendrijos vadovas\", \"Mažosios bendrijos apskaita\", \n",
    "    \"Mažosios bendrijos finansinė atskaitomybė\", \"Mažosios bendrijos narių gaunamos išmokos\", \"Daiktai\", \n",
    "    \"Daiktinė teisė\", \"Daikto valdymas\", \"Valdymo teisės objektas\", \"Nuosavybės teisė\", \n",
    "    \"Nuosavybės teisės subjektai\", \"Nuosavybės teisės įgijimo pagrindai\", \"Nuosavybės teisės pagrindinės teisės\", \n",
    "    \"Disponuoti\", \"Radinys\", \"Bendroji dalinė nuosavybė\", \"Savininko teisių apsauga\", \"savininko nuosavybę\", \n",
    "    \"Niekas neturi teisės\", \"Negatorinis ieškinys\", \"Turto patikėjimo teisės atsiradimo pagrindas\", \n",
    "    \"Servitutas\", \"Servitutą gali nustatyti\", \"teismo sprendimas, administracinis aktas.\", \"Uzufruktas\", \n",
    "    \"Uzufrukto objektas\", \"Hipoteka\", \"Daikto sulaikymas\", \"Paveldėjimas\", \"Įpėdiniai\", \"Testamentų rūšys\", \n",
    "    \"Įpėdinių pagal įstatymą eilės\", \"Konsensualinis sandoris\", \"prievolių teisė\", \"Kauzalinis sandoris\", \n",
    "    \"Abstraktus sandoris\", \"Sutarties samprata\", \"Esminis sutarties požymis\", \"Valios teorija\", \n",
    "    \"Ekonominė teorija\", \"Sutarties laisvės principas\", \"Socialinė teorija\", \"Pasitikėjimo teorija\", \n",
    "    \"sąžininga dalykinė praktika\", \"Sąžiningumas\", \"Moralinis sutarties aspektas\", \"sutartis negalioja\", \n",
    "    \"Sutarties elementai\", \"Sutarčių rūšys\", \"dvišalės sutartys\", \"vienašalės sutartys\", \"atlygintinės sutartys\", \n",
    "    \"neatlygintinės sutartys\", \"konsensualinės sutartys\", \"realinės sutartys\", \"vienkartinio įvykdymo sutartys\", \n",
    "    \"tęstinio vykdymo sutartys\", \"Viešoji sutartis\", \"Sutarčių sudarymas\", \"konsesualizmo principas\", \n",
    "    \"esminės sutarties sąlygos\", \"įprastinės sutarties sąlygos\", \"atsitiktinės sutarties sąlygos\", \n",
    "    \"Konfidencialumo pareiga\", \"Preliminarioji sutartis\", \"Žinojimo prezumpcija\", \"Oferta\", \"Ofertos galiojimas\", \n",
    "    \"Ofertos atšaukimas\", \"Oferta netenka galios\", \"Viešoji oferta\", \"Akceptas ir jo formos\", \"Akceptas\", \n",
    "    \"Akceptavimo terminas\", \"Pavėluotas akceptas\", \"Akcepto atšaukimas\", \"Sutarties sudarymo momentas\", \n",
    "    \"Sutarties sudarymo vieta\", \"Viešųjų sutarčių sudarymas\", \"nestandartinių sutarčių sąlygų prieštaravimas\", \n",
    "    \"Vartojimo sutarčių sąlygų ypatumai\", \"Vartotojas\", \"civilinė atsakomybė\", \"Nesąžiningos sutarčių sąlygos\", \n",
    "    \"Sutarties galia\", \"Sutarties privalomumo principas\", \"Sutarties galia tretiesiems asmenims\", \n",
    "    \"Sutarties forma\", \"Sutarčių aiškinimas\", \"Sutarčių aiškinimo taisyklės\", \"Sutarties sąlygų rūšys\", \n",
    "    \"Sutarties kaina\", \"Sutarties vykdymo principai\", \"Sutartis neapibrėžtam terminui\", \n",
    "    \"Sutartinių įsipareigojimų vykdymas pasikeitus aplinkybėms\", \"Sutarčių neįvykdymo teisinės pasekmės\", \n",
    "    \"Sutarties vykdymo sustabdymas\", \"Įvykdymo trūkumų pašalinimas\", \"Papildomas terminas\", \"Palūkanos\", \n",
    "    \"Atsakomybę naikinančios sąlygos\", \"Nenugalima jėga\", \"Reikalavimas įvykdyti sutartį\", \n",
    "    \"Bauda už įpareigojimo įvykdyti sutartinę prievolę natūra nevykdymą\", \"Sutarties nutraukimas\", \n",
    "    \"Pranešimas apie sutarties nutraukimą\", \"Sutarties nutraukimo teisinės pasekmės\", \"Restitucija\", \n",
    "    \"Sutarties pakeitimas\", \"Sutarties negaliojimas\", \"santykinis sutarties negaliojimas\", \n",
    "    \"absoliutus sutarties negaliojimas\", \"Dalinis sutarties negaliojimas\", \"Teisė pareikšti ieškinį dėl sutarties negaliojimo\", \n",
    "    \"Šalis gali atsisakyti sutarties\", \"Teismas gali pakeisti sutartį\", \n",
    "    \"Lituanika\", \"S. Darius ir S. Girėnas\", \"Arvydas Sabonis\", \"Laikomas geriausiu Lietuvos krepšininku\",\n",
    "    \"Lozoraitis Stasys\", \"Mykolas Romeris\", \"Jonas Basanavičius\", \"Vincas Kudirka\", \"Antanas Smetona\",\n",
    "    \"Molotovo–Ribentropo paktas\", \"Lietuvos laisvės lyga\", \"Adomas Mickevičius\", \"Radvilos\", \"Liublino unija\",\n",
    "    \"Rusnė\", \"Švėkšna\", \"Fotosintezė\", \"Archimedas\", \"Archimedo dėsnis\", \"Olimpo Dievai\", \"Dzeusas\", \"Poseidonas\",\n",
    "    \"Afroditė\", \"Atėnė\", \"Apolonas\", \"Kastis Torrau\", \"Aleksandras Stulginskis\", \"Adolfas Ramanauskas-Vanagas\",\n",
    "    \"CIVILINĖS TEISĖS REGULIAVIMO DALYKAS\", \"Civilinis kodeksas\", \"Civilinio kodekso reguliavimo principai\",\n",
    "    \"Sutarties laisvės principas\", \"Nuosavybės neliečiamumo principas\", \"Civilinių santykių subjektų lygiateisiškumo principas\",\n",
    "    \"Teisinio apibrėžtumo principas\", \"Proporcingumo principas\", \"Neleistinumo piktnaudžiauti teise\",\n",
    "    \"Civilinis teisinis santykis\", \"Civilinis teisnumas\", \"Civilinis veiksnumas\", \"civilinis teisinis santykis\",\n",
    "    \"Civilinio teisinio santykio turinys\", \"Juridinis faktas\", \"Teisinis poelgis\", \"Teisinis aktas\", \"Sandoris\",\n",
    "    \"vienašalis sandoris\", \"Sąlyginis sandoris\", \"Vienašalio sandorio sudarymo vieta\", \"Rašytinės formos sandorių pasirašymas\",\n",
    "    \"Niekiniai sandoriai\", \"Nuginčijamas sandoris\", \"negaliojantis sandoris\", \"Pinigai\", \"Akcija\", \"Vertybinis popierius\",\n",
    "    \"Obligacija\", \"Čekis\", \"Vekselis\", \"Konosamentas\", \"Indėlio liudijimas\", \"Daiktai, kaip civilinių teisių objektai\",\n",
    "    \"Žemės sklypas ir kiti ištekliai\", \"Įmonės ir turtiniai kompleksai\", \"Intelektinės veiklos rezultatai\",\n",
    "    \"Turtinės teisės\", \"Asmeninės neturtinės teisės\", \"Komercinė (gamybinė) ir profesinė paslaptis\", \"Garantiniai\",\n",
    "    \"Ieškinio senatis\", \"Naikinamasis\", \"Įgyjamasis\", \"Atnaujinamasis\", \"Terminas\", \"Ieškinio senaties terminų rūšys\",\n",
    "    \"Fizinis asmuo\", \"Juridinis asmuo\", \"Fizinio asmens pripažinimas neveiksniu\", \"Fizinio asmens nuolatinė gyvenamoji vieta\",\n",
    "    \"Teisė į vardą\", \"Teisės į vardą gynimas\", \"Teisė į atvaizdą\", \"Nuotrauka\", \"Fizinio asmens privatus gyvenimas neliečiamas\",\n",
    "    \"Teisė į privatų gyvenimą ir jo slaptumą\", \"Asmens garbės ir orumo gynimas\", \"Neleistinumas apriboti fizinio asmens laisvę\",\n",
    "]\n"
   ]
  },
  {
   "cell_type": "code",
   "execution_count": null,
   "id": "52036620-d9bb-4e7d-b829-2409d23afe12",
   "metadata": {},
   "outputs": [],
   "source": []
  },
  {
   "cell_type": "code",
   "execution_count": 22,
   "id": "febc3f15-be53-43a8-8400-ad8044921423",
   "metadata": {},
   "outputs": [
    {
     "data": {
      "text/plain": [
       "258"
      ]
     },
     "execution_count": 22,
     "metadata": {},
     "output_type": "execute_result"
    }
   ],
   "source": [
    "len(questions)"
   ]
  },
  {
   "cell_type": "markdown",
   "id": "26aa6927-082a-493c-af83-c87f9551e0df",
   "metadata": {},
   "source": [
    "### Information generation module\n",
    "    \"\"\"\n",
    "    A module that retrieves relevant context for a given query and generates trivia-style questions and answers in Lithuanian.\n",
    "\n",
    "    Attributes:\n",
    "        retrieve (dspy.Retrieve): A retrieval mechanism to fetch the top context passages related to the input query.\n",
    "\n",
    "    Methods:\n",
    "        forward(query): \n",
    "            Retrieves the most relevant context passages for a given query and then generates questions and answers in Lithuanian \n",
    "            based on the retrieved context. It returns a list of dictionaries, each containing the context, generated question, \n",
    "            and corresponding answer.\n",
    "    \"\"\"\n",
    "\n"
   ]
  },
  {
   "cell_type": "code",
   "execution_count": 23,
   "id": "76ae7e33-9e85-4a58-be22-281c226ce23c",
   "metadata": {},
   "outputs": [],
   "source": [
    "class GenerateQuestion(dspy.Signature):\n",
    "    \"\"\"Sudaryk klausimą iš gautos informacijos ir pateikto atsakymo. Klausimas Lietuvių kalba! \"\"\"\n",
    "    information = dspy.InputField()\n",
    "    question = dspy.OutputField()\n",
    "    answer = dspy.OutputField(desc= \"trumpas atsakymas Lietuvių kalba\")\n",
    "\n",
    "\n",
    "class GenerateTrivia(dspy.Module):\n",
    "    def __init__(self):\n",
    "        self.retrieve = dspy.Retrieve(k= 1)\n",
    "\n",
    "    def forward(self, query):\n",
    "        contexts = self.retrieve(query).passages\n",
    "        answers = []\n",
    "        for k in contexts:\n",
    "            output = dspy.ChainOfThought(GenerateQuestion) (information = k)\n",
    "            answers.append({\n",
    "                \"context\": k ,\n",
    "                \"question\" : output.question,\n",
    "                \"answer\" : output.answer\n",
    "            })\n",
    "        return answers    "
   ]
  },
  {
   "cell_type": "code",
   "execution_count": null,
   "id": "7a8e082f-8a26-4c97-ada1-c69e9d21b731",
   "metadata": {},
   "outputs": [],
   "source": []
  },
  {
   "cell_type": "markdown",
   "id": "d028431e-541f-4d56-8d2a-d8118083b178",
   "metadata": {},
   "source": [
    "##### Iterate over a list of questions and generate  questions and answers for each, add the generated results to 'generated_list', or print a message if no results are found."
   ]
  },
  {
   "cell_type": "code",
   "execution_count": 24,
   "id": "4fbe1909-fbec-4a94-ba99-199cab498f92",
   "metadata": {},
   "outputs": [],
   "source": [
    "generated_list = []\n",
    "klausimu_generatorius = GenerateTrivia()\n",
    "for q in questions:\n",
    "    result = klausimu_generatorius(query=q)\n",
    "    if result:  # Check if the result is not empty\n",
    "        generated_list.extend(result)\n",
    "    else:\n",
    "        print(f\"No results for query: {q}\")"
   ]
  },
  {
   "cell_type": "markdown",
   "id": "6151a241-342b-474c-b883-cbfeca40ea48",
   "metadata": {},
   "source": [
    "#### Generated dataframe\n",
    "If DSPy program doesnt make a question and answer pair from a given context or some error appears, than that records isn't added into a dataframe.\n",
    "This functionality is very sensitive to different LLM models."
   ]
  },
  {
   "cell_type": "code",
   "execution_count": 25,
   "id": "b82f509e-cebb-440b-b5f0-098aabc582f6",
   "metadata": {},
   "outputs": [
    {
     "data": {
      "text/html": [
       "<div>\n",
       "<style scoped>\n",
       "    .dataframe tbody tr th:only-of-type {\n",
       "        vertical-align: middle;\n",
       "    }\n",
       "\n",
       "    .dataframe tbody tr th {\n",
       "        vertical-align: top;\n",
       "    }\n",
       "\n",
       "    .dataframe thead th {\n",
       "        text-align: right;\n",
       "    }\n",
       "</style>\n",
       "<table border=\"1\" class=\"dataframe\">\n",
       "  <thead>\n",
       "    <tr style=\"text-align: right;\">\n",
       "      <th></th>\n",
       "      <th>context</th>\n",
       "      <th>question</th>\n",
       "      <th>answer</th>\n",
       "    </tr>\n",
       "  </thead>\n",
       "  <tbody>\n",
       "    <tr>\n",
       "      <th>0</th>\n",
       "      <td>JURIDINIAI ASMENYS\\nPagrindinės sąvokos\\nJurid...</td>\n",
       "      <td>Kokiu tikslu steigiamams viešieji ir privatūs ...</td>\n",
       "      <td>Viešieji juridiniai asmenys steigiamai tenkint...</td>\n",
       "    </tr>\n",
       "    <tr>\n",
       "      <th>2</th>\n",
       "      <td>Teisė į juridinio asmens pavadinimą\\nNeleidžia...</td>\n",
       "      <td>Ką gali padaryti juridinis asmuo, kurio teisė ...</td>\n",
       "      <td>Jis gali kreiptis į teismą ir reikalauti nutra...</td>\n",
       "    </tr>\n",
       "    <tr>\n",
       "      <th>5</th>\n",
       "      <td>Juridinio asmens registravimo pažymėjimas ir k...</td>\n",
       "      <td>Kokia informacija turi būti pateikta registruo...</td>\n",
       "      <td>Registruojant juridinį asmenį, reikia pateikti...</td>\n",
       "    </tr>\n",
       "    <tr>\n",
       "      <th>6</th>\n",
       "      <td>Akcinė bendrovė ir uždaroji akcinė bendrovė\\nA...</td>\n",
       "      <td>Koks yra minimalus įstatinis kapitalas, reikal...</td>\n",
       "      <td>Uždarosios akcinės bendrovės įstatinis kapital...</td>\n",
       "    </tr>\n",
       "    <tr>\n",
       "      <th>9</th>\n",
       "      <td>Licencijavimo taisyklės\\nKiekvienai įstatymų n...</td>\n",
       "      <td>Kiek laiko turi būti išduota licencija verstis...</td>\n",
       "      <td>Per trisdešimt dienų nuo dokumentų, reikalingų...</td>\n",
       "    </tr>\n",
       "    <tr>\n",
       "      <th>...</th>\n",
       "      <td>...</td>\n",
       "      <td>...</td>\n",
       "      <td>...</td>\n",
       "    </tr>\n",
       "    <tr>\n",
       "      <th>249</th>\n",
       "      <td>Fizinio asmens nuolatinė gyvenamoji vieta\\nFiz...</td>\n",
       "      <td>Kas yra fizinio asmens nuolatinė gyvenamoji vi...</td>\n",
       "      <td>Fizinis asmuo pripažįstamas turinčiu nuolatinę...</td>\n",
       "    </tr>\n",
       "    <tr>\n",
       "      <th>251</th>\n",
       "      <td>Teisės į vardą gynimas\\nFizinis asmuo, kurio t...</td>\n",
       "      <td>Ką turi teisę daryti fizinis asmuo, kurio vard...</td>\n",
       "      <td>Jis gali kreiptis į teismą ir reikalauti nutra...</td>\n",
       "    </tr>\n",
       "    <tr>\n",
       "      <th>252</th>\n",
       "      <td>Teisė į atvaizdą\\nFizinio asmens nuotrauka (jo...</td>\n",
       "      <td>Kada galima fotografuoti ar kitaip fiksuoti as...</td>\n",
       "      <td>Asmens sutikimo nereikia, jeigu šie veiksmai y...</td>\n",
       "    </tr>\n",
       "    <tr>\n",
       "      <th>254</th>\n",
       "      <td>Teisė į privatų gyvenimą ir jo slaptumą\\nFizin...</td>\n",
       "      <td>Kokie yra pagrindiniai asmens privatumo pažeid...</td>\n",
       "      <td>Neteisėtas ėjimas į asmens gyvenamąsias ir kit...</td>\n",
       "    </tr>\n",
       "    <tr>\n",
       "      <th>257</th>\n",
       "      <td>Neleistinumas apriboti fizinio asmens laisvę\\n...</td>\n",
       "      <td>Kokiais atvejais asmens psichinė būklė gali bū...</td>\n",
       "      <td>Asmens psichinė būklė gali būti tiriama be jo ...</td>\n",
       "    </tr>\n",
       "  </tbody>\n",
       "</table>\n",
       "<p>113 rows × 3 columns</p>\n",
       "</div>"
      ],
      "text/plain": [
       "                                               context  \\\n",
       "0    JURIDINIAI ASMENYS\\nPagrindinės sąvokos\\nJurid...   \n",
       "2    Teisė į juridinio asmens pavadinimą\\nNeleidžia...   \n",
       "5    Juridinio asmens registravimo pažymėjimas ir k...   \n",
       "6    Akcinė bendrovė ir uždaroji akcinė bendrovė\\nA...   \n",
       "9    Licencijavimo taisyklės\\nKiekvienai įstatymų n...   \n",
       "..                                                 ...   \n",
       "249  Fizinio asmens nuolatinė gyvenamoji vieta\\nFiz...   \n",
       "251  Teisės į vardą gynimas\\nFizinis asmuo, kurio t...   \n",
       "252  Teisė į atvaizdą\\nFizinio asmens nuotrauka (jo...   \n",
       "254  Teisė į privatų gyvenimą ir jo slaptumą\\nFizin...   \n",
       "257  Neleistinumas apriboti fizinio asmens laisvę\\n...   \n",
       "\n",
       "                                              question  \\\n",
       "0    Kokiu tikslu steigiamams viešieji ir privatūs ...   \n",
       "2    Ką gali padaryti juridinis asmuo, kurio teisė ...   \n",
       "5    Kokia informacija turi būti pateikta registruo...   \n",
       "6    Koks yra minimalus įstatinis kapitalas, reikal...   \n",
       "9    Kiek laiko turi būti išduota licencija verstis...   \n",
       "..                                                 ...   \n",
       "249  Kas yra fizinio asmens nuolatinė gyvenamoji vi...   \n",
       "251  Ką turi teisę daryti fizinis asmuo, kurio vard...   \n",
       "252  Kada galima fotografuoti ar kitaip fiksuoti as...   \n",
       "254  Kokie yra pagrindiniai asmens privatumo pažeid...   \n",
       "257  Kokiais atvejais asmens psichinė būklė gali bū...   \n",
       "\n",
       "                                                answer  \n",
       "0    Viešieji juridiniai asmenys steigiamai tenkint...  \n",
       "2    Jis gali kreiptis į teismą ir reikalauti nutra...  \n",
       "5    Registruojant juridinį asmenį, reikia pateikti...  \n",
       "6    Uždarosios akcinės bendrovės įstatinis kapital...  \n",
       "9    Per trisdešimt dienų nuo dokumentų, reikalingų...  \n",
       "..                                                 ...  \n",
       "249  Fizinis asmuo pripažįstamas turinčiu nuolatinę...  \n",
       "251  Jis gali kreiptis į teismą ir reikalauti nutra...  \n",
       "252  Asmens sutikimo nereikia, jeigu šie veiksmai y...  \n",
       "254  Neteisėtas ėjimas į asmens gyvenamąsias ir kit...  \n",
       "257  Asmens psichinė būklė gali būti tiriama be jo ...  \n",
       "\n",
       "[113 rows x 3 columns]"
      ]
     },
     "execution_count": 25,
     "metadata": {},
     "output_type": "execute_result"
    }
   ],
   "source": [
    "Retrieva_QA_creation_df = pd.DataFrame(generated_list)\n",
    "Retrieva_QA_creation_df = Retrieva_QA_creation_df.drop_duplicates(subset=['question', 'answer'], keep=\"first\")\n",
    "Retrieva_QA_creation_df"
   ]
  },
  {
   "cell_type": "code",
   "execution_count": 26,
   "id": "dc9e571a-95d5-4dd7-a470-cba402a19769",
   "metadata": {},
   "outputs": [
    {
     "data": {
      "text/plain": [
       "113"
      ]
     },
     "execution_count": 26,
     "metadata": {},
     "output_type": "execute_result"
    }
   ],
   "source": [
    "len(Retrieva_QA_creation_df)"
   ]
  },
  {
   "cell_type": "code",
   "execution_count": 28,
   "id": "bd3efef7-2beb-4f74-94ef-814a81592f51",
   "metadata": {},
   "outputs": [],
   "source": [
    "Retrieva_QA_creation_df.to_csv(\"generated_CQA\")"
   ]
  },
  {
   "cell_type": "markdown",
   "id": "75681b5a-12f1-4b6c-8e2e-a4d014080667",
   "metadata": {},
   "source": [
    "# Conclusion:\n",
    "The experiment demonstrated that DSPY, when paired with the Gemma 2 27B Q4 model, can effectively generate question and answer pairs from a given context. However, the results underscored that the information module's performance is highly sensitive to the specific model used. This indicates that model selection plays a crucial role in determining the quality and relevance of the generated QA pairs. Additionally, the experiment faced the challenge of processing Lithuanian, a language spoken by a small population and not widely supported in natural language processing tools. Despite this, the model performed reasonably well in generating accurate QA pairs. Further investigation into optimizing the choice of model and refining the information retrieval process can improve the overall performance of the system."
   ]
  },
  {
   "cell_type": "code",
   "execution_count": null,
   "id": "cb262d85-e14a-4da3-a23f-1420e1b39d92",
   "metadata": {},
   "outputs": [],
   "source": []
  }
 ],
 "metadata": {
  "kernelspec": {
   "display_name": "Python 3 (ipykernel)",
   "language": "python",
   "name": "python3"
  },
  "language_info": {
   "codemirror_mode": {
    "name": "ipython",
    "version": 3
   },
   "file_extension": ".py",
   "mimetype": "text/x-python",
   "name": "python",
   "nbconvert_exporter": "python",
   "pygments_lexer": "ipython3",
   "version": "3.12.9"
  }
 },
 "nbformat": 4,
 "nbformat_minor": 5
}
